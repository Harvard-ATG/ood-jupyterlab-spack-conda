{
 "cells": [
  {
   "cell_type": "markdown",
   "id": "d59145bd-589f-48fd-b6e1-bb920040049c",
   "metadata": {},
   "source": [
    "This notebook is designed to test jupyter course setup and libraries.\n",
    "Before running this jupyter notebook, review the cells below and\n",
    "activate (make a Code Cell) or deactivate (make a Markdown Cell) only those cells relevant to the course you are testing."
   ]
  },
  {
   "cell_type": "code",
   "execution_count": null,
   "id": "052346a4-f113-424f-8565-e26596837d22",
   "metadata": {},
   "outputs": [],
   "source": [
    "# --- General Python Test ---\n",
    "x = 5\n",
    "print (x)"
   ]
  },
  {
   "cell_type": "code",
   "execution_count": null,
   "id": "7234e9bf-48b6-4302-937b-583eb4f5727d",
   "metadata": {},
   "outputs": [],
   "source": [
    "# --- Pandas \"Hello, World!\" Test ---\n",
    "\n",
    "import pandas as pd\n",
    "\n",
    "# Create a dictionary with some data\n",
    "data = {\n",
    "    'Greeting': ['Hello', 'World']\n",
    "}\n",
    "\n",
    "# Create a DataFrame from the dictionary\n",
    "df = pd.DataFrame(data)\n",
    "\n",
    "# Print the DataFrame\n",
    "print(df)"
   ]
  },
  {
   "cell_type": "code",
   "execution_count": null,
   "id": "9fbb4ae2-eeec-4790-8c18-912d8565d185",
   "metadata": {},
   "outputs": [],
   "source": [
    "# --- NumPy \"Hello, World!\" Test ---\n",
    "\n",
    "import numpy as np\n",
    "\n",
    "# Create some array using Numpy\n",
    "arr = np.array([1, 2, 3, 4, 5])\n",
    "\n",
    "# Print the array\n",
    "print(\"Hello, World! NumPy Array:\")\n",
    "print(arr)"
   ]
  },
  {
   "cell_type": "code",
   "execution_count": null,
   "id": "9f5397a5-e7fc-4563-8f91-4efc0ec8e7f3",
   "metadata": {},
   "outputs": [],
   "source": [
    "# --- Matplotlib \"Hello, World!\" ---\n",
    "\n",
    "import matplotlib.pyplot as plt\n",
    "\n",
    "print(\"Hello, World! from Matplotlib\")\n",
    "\n",
    "# Create some data using NumPy\n",
    "x_values = np.linspace(0, 10, 100)\n",
    "y_values = np.sin(x_values)\n",
    "\n",
    "# Create a figure and an axes object\n",
    "plt.figure()\n",
    "\n",
    "# Plot the data\n",
    "plt.plot(x_values, y_values)\n",
    "\n",
    "# Set the title and labels\n",
    "plt.title(\"Matplotlib Sine Wave\")\n",
    "plt.xlabel(\"X-axis\")\n",
    "plt.ylabel(\"Y-axis\")\n",
    "\n",
    "# Save the plot to a file\n",
    "plt.savefig('matplotlib_hello_world.png')"
   ]
  },
  {
   "cell_type": "code",
   "execution_count": null,
   "id": "66c47875-f0cc-4293-86ef-9ffe3cd995dd",
   "metadata": {},
   "outputs": [],
   "source": [
    "# --- Seaborn \"Hello, World!\" Test ---\n",
    "\n",
    "import seaborn as sns\n",
    "import matplotlib.pyplot as plt\n",
    "\n",
    "print(\"Hello, World! from Seaborn\")\n",
    "\n",
    "# Load a built-in dataset\n",
    "tips_df = sns.load_dataset(\"tips\")\n",
    "\n",
    "# Create a simple scatter plot\n",
    "sns.scatterplot(x=\"total_bill\", y=\"tip\", data=tips_df)\n",
    "plt.title(\"Total Bill vs. Tip\")\n",
    "plt.xlabel(\"Total Bill ($)\")\n",
    "plt.ylabel(\"Tip ($)\")\n",
    "\n",
    "# Save the plot to a file\n",
    "plt.savefig(\"seaborn_tips_plot.png\")"
   ]
  },
  {
   "cell_type": "code",
   "execution_count": null,
   "id": "80ea0924-fd78-45ed-a8b6-8f72da35eb62",
   "metadata": {},
   "outputs": [],
   "source": [
    "# --- Scipy \"Hello, World!\" Test ---\n",
    "\n",
    "import numpy as np\n",
    "from scipy import stats\n",
    "\n",
    "print(\"Hello, World! from SciPy\")\n",
    "\n",
    "# Create a simple NumPy array\n",
    "data = np.array([1, 2, 3, 4, 5, 6, 7, 8, 9, 10])\n",
    "\n",
    "# Calculate descriptive statistics\n",
    "stats_output = stats.describe(data)\n",
    "\n",
    "# Print the results\n",
    "print(\"Descriptive Statistics for the array:\")\n",
    "print(stats_output)"
   ]
  },
  {
   "cell_type": "code",
   "execution_count": null,
   "id": "f779055c-542a-4343-905d-9289f55aa1ba",
   "metadata": {},
   "outputs": [],
   "source": [
    "# --- Request \"Hello, World!\" Test ---\n",
    "\n",
    "import requests\n",
    "\n",
    "print(\"Hello, World! from Requests\")\n",
    "\n",
    "# Make a simple GET request to a public API\n",
    "response = requests.get(\"https://api.github.com/events\")\n",
    "\n",
    "# Print the status code and a portion of the response text\n",
    "print(f\"Status Code: {response.status_code}\")\n",
    "print(\"Response Content (first 200 characters):\")\n",
    "print(response.text[:200])"
   ]
  },
  {
   "cell_type": "code",
   "execution_count": null,
   "id": "b7952ef5-5388-4290-be55-3082b1035339",
   "metadata": {},
   "outputs": [],
   "source": [
    "# Initial Setup with License\n",
    "print(\"STARTING INITIAL AMPLPY SETUP\")\n",
    "print(\"Getting modules and solvers and activate license\")\n",
    "      \n",
    "# Install solver modules:\n",
    "!python -m amplpy.modules install highs gurobi\n",
    "\n",
    "# Activate your license (e.g., free ampl.com/ce or ampl.com/courses licenses\n",
    "# A free license for OOD dev team testing only can be found in AWS Dev Academic Compute at /dev/ood_course_setup/jupyter/amplpy/license_key:\n",
    "!python -m amplpy.modules activate <enter_your_license_key_here>\n",
    "\n",
    "print(\"Initial setup and activation complete, restart AMPL with import and instantiating AMPL object: ampl = AMPL()\")\n",
    "print(\"END - INITIAL AMPLPY SETUP\")"
   ]
  },
  {
   "cell_type": "code",
   "execution_count": null,
   "id": "a524234b-e877-47d8-8056-c09cc3c78b39",
   "metadata": {},
   "outputs": [],
   "source": [
    "# --- Amplpy Hello World! Test --\n",
    "# Example adapted from https://pypi.org/project/amplpy/ and \n",
    "# and AMPL Integraiton with Python - Minimal Example https://dev.ampl.com/ampl/python/index.html#ampl-integration-with-python\n",
    "# enhanced with example data with support by Gemini LLM\n",
    "\n",
    "from amplpy import AMPL\n",
    "import pandas as pd\n",
    "\n",
    "# Example This \"Hello, World!\" example demonstrates how to use `amplpy` to solve an optimization problem. \n",
    "# The code defines a simple model in AMPL syntax to find the optimal solution to a mathematical problem. \n",
    "# It then passes data from Python to the model, solves it using an external solver, and retrieves the results back into Python.\n",
    "# tickers is a list of stock symbols, defining the assets you're analyzing. cov_matrix is a table of numbers that measures\n",
    "# how the returns of each of those stocks move in relation to one another.\n",
    "\n",
    "# Restarts AMPL to use the license.\n",
    "ampl = AMPL()\n",
    "ampl.eval(r\"\"\"\n",
    "    set A ordered;\n",
    "    param S{A, A};\n",
    "    param lb default 0;\n",
    "    param ub default 1;\n",
    "    var w{A} >= lb <= ub;\n",
    "    minimize portfolio_variance:\n",
    "        sum {i in A, j in A} w[i] * S[i, j] * w[j];\n",
    "    s.t. portfolio_weights:\n",
    "        sum {i in A} w[i] = 1;\n",
    "\"\"\")\n",
    "# ... pre-process data in Python\n",
    "tickers = [\"AAPL\", \"GOOG\", \"MSFT\"]\n",
    "cov_matrix = [\n",
    "    [0.005, 0.002, 0.001],\n",
    "    [0.002, 0.008, 0.003],\n",
    "    [0.001, 0.003, 0.010],\n",
    "]\n",
    "ampl.set[\"A\"] = tickers\n",
    "ampl.param[\"S\"] = pd.DataFrame(cov_matrix, index=tickers, columns=tickers)\n",
    "ampl.solve(solver=\"gurobi\", gurobi_options=\"outlev=1\")\n",
    "assert ampl.solve_result == \"solved\"\n",
    "sigma = ampl.get_value(\"sqrt(sum {i in A, j in A} w[i] * S[i, j] * w[j])\")\n",
    "print(f\"Hello World Volatility: {sigma*100:.1f}%\")\n",
    "# ... post-process solution in Python\n"
   ]
  }
 ],
 "metadata": {
  "kernelspec": {
   "display_name": "Python 3 (ipykernel)",
   "language": "python",
   "name": "python3"
  },
  "language_info": {
   "codemirror_mode": {
    "name": "ipython",
    "version": 3
   },
   "file_extension": ".py",
   "mimetype": "text/x-python",
   "name": "python",
   "nbconvert_exporter": "python",
   "pygments_lexer": "ipython3",
   "version": "3.13.5"
  }
 },
 "nbformat": 4,
 "nbformat_minor": 5
}
